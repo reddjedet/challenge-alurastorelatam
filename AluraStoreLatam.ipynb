{
  "cells": [
    {
      "cell_type": "markdown",
      "metadata": {
        "id": "RhEdWd9YUR6H"
      },
      "source": [
        "### Importación de datos\n",
        "\n"
      ]
    },
    {
      "cell_type": "code",
      "execution_count": 42,
      "metadata": {
        "colab": {
          "base_uri": "https://localhost:8080/",
          "height": 206
        },
        "id": "T3EvaeQ_INIL",
        "outputId": "e9c5efe1-82a3-43ab-e8d7-6d01e4fa3514"
      },
      "outputs": [
        {
          "data": {
            "text/html": [
              "<div>\n",
              "<style scoped>\n",
              "    .dataframe tbody tr th:only-of-type {\n",
              "        vertical-align: middle;\n",
              "    }\n",
              "\n",
              "    .dataframe tbody tr th {\n",
              "        vertical-align: top;\n",
              "    }\n",
              "\n",
              "    .dataframe thead th {\n",
              "        text-align: right;\n",
              "    }\n",
              "</style>\n",
              "<table border=\"1\" class=\"dataframe\">\n",
              "  <thead>\n",
              "    <tr style=\"text-align: right;\">\n",
              "      <th></th>\n",
              "      <th>Producto</th>\n",
              "      <th>Categoría del Producto</th>\n",
              "      <th>Precio</th>\n",
              "      <th>Costo de envío</th>\n",
              "      <th>Fecha de Compra</th>\n",
              "      <th>Vendedor</th>\n",
              "      <th>Lugar de Compra</th>\n",
              "      <th>Calificación</th>\n",
              "      <th>Método de pago</th>\n",
              "      <th>Cantidad de cuotas</th>\n",
              "      <th>lat</th>\n",
              "      <th>lon</th>\n",
              "    </tr>\n",
              "  </thead>\n",
              "  <tbody>\n",
              "    <tr>\n",
              "      <th>0</th>\n",
              "      <td>Asistente virtual</td>\n",
              "      <td>Electrónicos</td>\n",
              "      <td>164300.0</td>\n",
              "      <td>6900.0</td>\n",
              "      <td>16/01/2021</td>\n",
              "      <td>Pedro Gomez</td>\n",
              "      <td>Bogotá</td>\n",
              "      <td>4</td>\n",
              "      <td>Tarjeta de crédito</td>\n",
              "      <td>8</td>\n",
              "      <td>4.60971</td>\n",
              "      <td>-74.08175</td>\n",
              "    </tr>\n",
              "    <tr>\n",
              "      <th>1</th>\n",
              "      <td>Mesa de comedor</td>\n",
              "      <td>Muebles</td>\n",
              "      <td>192300.0</td>\n",
              "      <td>8400.0</td>\n",
              "      <td>18/05/2022</td>\n",
              "      <td>Beatriz Morales</td>\n",
              "      <td>Medellín</td>\n",
              "      <td>1</td>\n",
              "      <td>Tarjeta de crédito</td>\n",
              "      <td>4</td>\n",
              "      <td>6.25184</td>\n",
              "      <td>-75.56359</td>\n",
              "    </tr>\n",
              "    <tr>\n",
              "      <th>2</th>\n",
              "      <td>Juego de mesa</td>\n",
              "      <td>Juguetes</td>\n",
              "      <td>209600.0</td>\n",
              "      <td>15900.0</td>\n",
              "      <td>15/03/2021</td>\n",
              "      <td>Juan Fernandez</td>\n",
              "      <td>Cartagena</td>\n",
              "      <td>1</td>\n",
              "      <td>Tarjeta de crédito</td>\n",
              "      <td>1</td>\n",
              "      <td>10.39972</td>\n",
              "      <td>-75.51444</td>\n",
              "    </tr>\n",
              "    <tr>\n",
              "      <th>3</th>\n",
              "      <td>Microondas</td>\n",
              "      <td>Electrodomésticos</td>\n",
              "      <td>757500.0</td>\n",
              "      <td>41000.0</td>\n",
              "      <td>03/05/2022</td>\n",
              "      <td>Juan Fernandez</td>\n",
              "      <td>Cali</td>\n",
              "      <td>4</td>\n",
              "      <td>Nequi</td>\n",
              "      <td>1</td>\n",
              "      <td>3.43722</td>\n",
              "      <td>-76.52250</td>\n",
              "    </tr>\n",
              "    <tr>\n",
              "      <th>4</th>\n",
              "      <td>Silla de oficina</td>\n",
              "      <td>Muebles</td>\n",
              "      <td>335200.0</td>\n",
              "      <td>20200.0</td>\n",
              "      <td>07/11/2020</td>\n",
              "      <td>Maria Alfonso</td>\n",
              "      <td>Medellín</td>\n",
              "      <td>5</td>\n",
              "      <td>Nequi</td>\n",
              "      <td>1</td>\n",
              "      <td>6.25184</td>\n",
              "      <td>-75.56359</td>\n",
              "    </tr>\n",
              "  </tbody>\n",
              "</table>\n",
              "</div>"
            ],
            "text/plain": [
              "            Producto Categoría del Producto    Precio  Costo de envío  \\\n",
              "0  Asistente virtual           Electrónicos  164300.0          6900.0   \n",
              "1    Mesa de comedor                Muebles  192300.0          8400.0   \n",
              "2      Juego de mesa               Juguetes  209600.0         15900.0   \n",
              "3         Microondas      Electrodomésticos  757500.0         41000.0   \n",
              "4   Silla de oficina                Muebles  335200.0         20200.0   \n",
              "\n",
              "  Fecha de Compra         Vendedor Lugar de Compra  Calificación  \\\n",
              "0      16/01/2021      Pedro Gomez          Bogotá             4   \n",
              "1      18/05/2022  Beatriz Morales        Medellín             1   \n",
              "2      15/03/2021   Juan Fernandez       Cartagena             1   \n",
              "3      03/05/2022   Juan Fernandez            Cali             4   \n",
              "4      07/11/2020    Maria Alfonso        Medellín             5   \n",
              "\n",
              "       Método de pago  Cantidad de cuotas       lat       lon  \n",
              "0  Tarjeta de crédito                   8   4.60971 -74.08175  \n",
              "1  Tarjeta de crédito                   4   6.25184 -75.56359  \n",
              "2  Tarjeta de crédito                   1  10.39972 -75.51444  \n",
              "3               Nequi                   1   3.43722 -76.52250  \n",
              "4               Nequi                   1   6.25184 -75.56359  "
            ]
          },
          "execution_count": 42,
          "metadata": {},
          "output_type": "execute_result"
        }
      ],
      "source": [
        "import pandas as pd\n",
        "\n",
        "url = \"https://raw.githubusercontent.com/alura-es-cursos/challenge1-data-science-latam/refs/heads/main/base-de-datos-challenge1-latam/tienda_1%20.csv\"\n",
        "url2 = \"https://raw.githubusercontent.com/alura-es-cursos/challenge1-data-science-latam/refs/heads/main/base-de-datos-challenge1-latam/tienda_2.csv\"\n",
        "url3 = \"https://raw.githubusercontent.com/alura-es-cursos/challenge1-data-science-latam/refs/heads/main/base-de-datos-challenge1-latam/tienda_3.csv\"\n",
        "url4 = \"https://raw.githubusercontent.com/alura-es-cursos/challenge1-data-science-latam/refs/heads/main/base-de-datos-challenge1-latam/tienda_4.csv\"\n",
        "\n",
        "\n",
        "tienda = pd.read_csv(url)\n",
        "tienda2 = pd.read_csv(url2)\n",
        "tienda3 = pd.read_csv(url3)\n",
        "tienda4 = pd.read_csv(url4)\n",
        "\n",
        "tienda.head()"
      ]
    },
    {
      "cell_type": "markdown",
      "metadata": {
        "id": "X62IW3KFUIYm"
      },
      "source": [
        "#1. Análisis de facturación\n",
        "\n"
      ]
    },
    {
      "cell_type": "code",
      "execution_count": 43,
      "metadata": {
        "id": "xykobSftV64I"
      },
      "outputs": [],
      "source": [
        "# facturación total de cada tienda (4)\n",
        "\n",
        "# declarar fn \n",
        "# parámetro de entrada donde tienda es un dframe que contiene la col precio\n",
        "# se accede a la col precio de x tienda y se suman los valores\n",
        "def facturacion(tienda): \n",
        "    return tienda['Precio'].sum()\n",
        "\n",
        "# def diccionario (pares clave-valor)\n",
        "resultados = {\n",
        "    'tienda': int(facturacion(tienda)),\n",
        "    'tienda2': int(facturacion(tienda2)),\n",
        "    'tienda3': int(facturacion(tienda3)),\n",
        "    'tienda4': int(facturacion(tienda4))\n",
        "}"
      ]
    },
    {
      "cell_type": "code",
      "execution_count": 44,
      "metadata": {
        "id": "KDyr8E71V3m-"
      },
      "outputs": [
        {
          "name": "stdout",
          "output_type": "stream",
          "text": [
            "{'tienda': 1150880400, 'tienda2': 1116343500, 'tienda3': 1098019600, 'tienda4': 1038375700}\n"
          ]
        }
      ],
      "source": [
        "print(resultados)"
      ]
    },
    {
      "cell_type": "markdown",
      "metadata": {
        "id": "2V_vcAPzWZmR"
      },
      "source": [
        "# 2. Ventas por categoría"
      ]
    },
    {
      "cell_type": "code",
      "execution_count": 45,
      "metadata": {
        "id": "A34YupIuYhfF"
      },
      "outputs": [
        {
          "name": "stdout",
          "output_type": "stream",
          "text": [
            "{'tienda': 'Muebles', 'tienda2': 'Muebles', 'tienda3': 'Muebles', 'tienda4': 'Muebles'}\n"
          ]
        }
      ],
      "source": [
        "# categorías mas populares\n",
        "# value_counts para registrar cuantas veces aparece cada categoría\n",
        "# idmax para devolver la que tenga el número mayor \n",
        "def categoria_popular(tienda):\n",
        "    return tienda['Categoría del Producto'].value_counts().idxmax()\n",
        "\n",
        "categorias_populares = {\n",
        "    'tienda': categoria_popular(tienda),\n",
        "    'tienda2': categoria_popular(tienda2),\n",
        "    'tienda3': categoria_popular(tienda3),\n",
        "    'tienda4': categoria_popular(tienda4)\n",
        "}\n",
        "\n",
        "print(categorias_populares)"
      ]
    },
    {
      "cell_type": "code",
      "execution_count": 46,
      "metadata": {
        "id": "yZR6cOjXYSk1"
      },
      "outputs": [
        {
          "name": "stdout",
          "output_type": "stream",
          "text": [
            "tienda: Muebles\n",
            "tienda2: Muebles\n",
            "tienda3: Muebles\n",
            "tienda4: Muebles\n"
          ]
        },
        {
          "data": {
            "text/plain": [
              "' \\nni \"nombre\" ni \"categoría\" existen en el diccionario, pero el código supo interpretar que me refería a clave-valor porque es \\nparte del funcionamiento de .items() \\n'"
            ]
          },
          "execution_count": 46,
          "metadata": {},
          "output_type": "execute_result"
        }
      ],
      "source": [
        "\n",
        "for nombre, categoria in categorias_populares.items():\n",
        "    print(f'{nombre}: {categoria}')\n",
        "\n",
        "''' \n",
        "ni \"nombre\" ni \"categoría\" existen en el diccionario, pero el código supo interpretar que me refería a clave-valor porque es \n",
        "parte del funcionamiento de .items() \n",
        "'''"
      ]
    },
    {
      "cell_type": "markdown",
      "metadata": {
        "id": "Rq6tU_xSY3jk"
      },
      "source": [
        "# 3. Calificación promedio de la tienda\n"
      ]
    },
    {
      "cell_type": "code",
      "execution_count": 47,
      "metadata": {
        "id": "bh3jjjJwY5MU"
      },
      "outputs": [
        {
          "name": "stdout",
          "output_type": "stream",
          "text": [
            "{'tienda': np.float64(3.98), 'tienda2': np.float64(4.04), 'tienda3': np.float64(4.05), 'tienda4': np.float64(4.0)}\n"
          ]
        }
      ],
      "source": [
        "# promedio de calificacion de los clientes\n",
        "\n",
        "# mean para calcular el promedio\n",
        "# round (... , 2) para obtener 2 decimales\n",
        "\n",
        "def promedio_calificacion(tienda):\n",
        "    return  round(tienda['Calificación'].mean(), 2)\n",
        "\n",
        "calificaciones_promedio = {\n",
        "    'tienda': promedio_calificacion(tienda),\n",
        "    'tienda2': promedio_calificacion(tienda2),\n",
        "    'tienda3': promedio_calificacion(tienda3),\n",
        "    'tienda4': promedio_calificacion(tienda4),\n",
        "}\n",
        "\n",
        "print(calificaciones_promedio)"
      ]
    },
    {
      "cell_type": "code",
      "execution_count": 48,
      "metadata": {
        "id": "I0KkjPoTY88F"
      },
      "outputs": [
        {
          "name": "stdout",
          "output_type": "stream",
          "text": [
            "tienda: 3.98 estrellas\n",
            "tienda2: 4.04 estrellas\n",
            "tienda3: 4.05 estrellas\n",
            "tienda4: 4.0 estrellas\n"
          ]
        }
      ],
      "source": [
        "for nombre, calificacion in calificaciones_promedio.items():\n",
        "    print(f'{nombre}: {calificacion} estrellas')"
      ]
    },
    {
      "cell_type": "code",
      "execution_count": 49,
      "metadata": {},
      "outputs": [
        {
          "name": "stdout",
          "output_type": "stream",
          "text": [
            "Mejor tienda: tienda3, con 4.05 estrellas.\n"
          ]
        }
      ],
      "source": [
        "# identificando al ganador\n",
        "\n",
        "mejor_tienda = max(calificaciones_promedio, key=calificaciones_promedio.get)\n",
        "mejor_valor = calificaciones_promedio[mejor_tienda]\n",
        "print(f'Mejor tienda: {mejor_tienda}, con {mejor_valor} estrellas.')"
      ]
    },
    {
      "cell_type": "markdown",
      "metadata": {
        "id": "DmNp1KPBZCm-"
      },
      "source": [
        "# 4. Productos más y menos vendidos"
      ]
    },
    {
      "cell_type": "code",
      "execution_count": 50,
      "metadata": {
        "id": "qoyjqijQZHfF"
      },
      "outputs": [],
      "source": [
        "# idxmax / idxmin > indice de mayor y menor precio\n",
        "# .loc[] para acceder al nombre del producto en esa fila\n",
        "\n",
        "def mas_menos_vendido(tienda):\n",
        "    mas_vendido = tienda.loc[tienda['Precio'].idxmax(), 'Producto']\n",
        "    menos_vendido = tienda.loc[tienda['Precio'].idxmin(), 'Producto']\n",
        "    return {'mas vendido': mas_vendido, 'menos vendido': menos_vendido}"
      ]
    },
    {
      "cell_type": "code",
      "execution_count": 51,
      "metadata": {
        "id": "0Sw3sd4IZIGW"
      },
      "outputs": [
        {
          "name": "stdout",
          "output_type": "stream",
          "text": [
            "{'tienda': {'mas vendido': 'TV LED UHD 4K', 'menos vendido': 'Cubo mágico 8x8'}, 'tienda2': {'mas vendido': 'TV LED UHD 4K', 'menos vendido': 'Cuerda para saltar'}, 'tienda3': {'mas vendido': 'TV LED UHD 4K', 'menos vendido': 'Cuerda para saltar'}, 'tienda4': {'mas vendido': 'TV LED UHD 4K', 'menos vendido': 'Cubo mágico 8x8'}}\n"
          ]
        }
      ],
      "source": [
        "mas_menos_dicc = {\n",
        "    'tienda': mas_menos_vendido(tienda),\n",
        "    'tienda2': mas_menos_vendido(tienda2),\n",
        "    'tienda3': mas_menos_vendido(tienda3),\n",
        "    'tienda4': mas_menos_vendido(tienda4),\n",
        "}\n",
        "\n",
        "print(mas_menos_dicc)"
      ]
    },
    {
      "cell_type": "code",
      "execution_count": 52,
      "metadata": {},
      "outputs": [
        {
          "name": "stdout",
          "output_type": "stream",
          "text": [
            "tienda:\n",
            " mas vendido -> TV LED UHD 4K\n",
            " menos vendido -> Cubo mágico 8x8\n",
            "\n",
            "tienda2:\n",
            " mas vendido -> TV LED UHD 4K\n",
            " menos vendido -> Cuerda para saltar\n",
            "\n",
            "tienda3:\n",
            " mas vendido -> TV LED UHD 4K\n",
            " menos vendido -> Cuerda para saltar\n",
            "\n",
            "tienda4:\n",
            " mas vendido -> TV LED UHD 4K\n",
            " menos vendido -> Cubo mágico 8x8\n",
            "\n"
          ]
        }
      ],
      "source": [
        "for nombre, mas_menos in mas_menos_dicc.items():\n",
        "    print(f'{nombre}:\\n mas vendido -> {mas_menos['mas vendido']}\\n menos vendido -> {mas_menos['menos vendido']}\\n')"
      ]
    },
    {
      "cell_type": "markdown",
      "metadata": {
        "id": "Fl0cGi3bZKqU"
      },
      "source": [
        "# 5. Envío promedio por tienda"
      ]
    },
    {
      "cell_type": "code",
      "execution_count": 53,
      "metadata": {
        "id": "S2JeaCykZNy9"
      },
      "outputs": [],
      "source": [
        "# costo promedio del envío\n",
        "\n",
        "def costo_promedio_envio(tienda):\n",
        "    return round(tienda['Costo de envío'].mean(), 2)\n",
        "\n",
        "# clave-valor > {tiendax: costo}\n",
        "costo_envios_promedio = {\n",
        "    'tienda': costo_promedio_envio(tienda),\n",
        "    'tienda2': costo_promedio_envio(tienda2),\n",
        "    'tienda3': costo_promedio_envio(tienda3),\n",
        "    'tienda4': costo_promedio_envio(tienda4),\n",
        "}\n",
        "\n",
        "#print(envios_promedio)"
      ]
    },
    {
      "cell_type": "code",
      "execution_count": 54,
      "metadata": {
        "id": "0tSdCie9ZQlt"
      },
      "outputs": [
        {
          "name": "stdout",
          "output_type": "stream",
          "text": [
            "tienda: $26018.61\n",
            "tienda2: $25216.24\n",
            "tienda3: $24805.68\n",
            "tienda4: $23459.46\n"
          ]
        }
      ],
      "source": [
        "for nombre, costo in costo_envios_promedio.items():\n",
        "    print(f'{nombre}: ${costo}')"
      ]
    },
    {
      "cell_type": "code",
      "execution_count": 58,
      "metadata": {},
      "outputs": [
        {
          "name": "stdout",
          "output_type": "stream",
          "text": [
            "Tienda con menores costos de envío: \n",
            "tienda4 por $23459.46\n"
          ]
        }
      ],
      "source": [
        "# identificando al \"ganador\". \n",
        "# del diccionario costo_envios_promedio, recorre las claves.\n",
        "# key=x.get indica que la comparacion se hace según los valores asociados a cada clave \n",
        "\n",
        "mas_barato = min(costo_envios_promedio, key=costo_envios_promedio.get)\n",
        "print(f'Tienda con menores costos de envío: \\n{mas_barato} por ${costo_envios_promedio[mas_barato]}')"
      ]
    },
    {
      "cell_type": "code",
      "execution_count": null,
      "metadata": {},
      "outputs": [],
      "source": []
    }
  ],
  "metadata": {
    "colab": {
      "provenance": []
    },
    "kernelspec": {
      "display_name": "Python 3",
      "name": "python3"
    },
    "language_info": {
      "codemirror_mode": {
        "name": "ipython",
        "version": 3
      },
      "file_extension": ".py",
      "mimetype": "text/x-python",
      "name": "python",
      "nbconvert_exporter": "python",
      "pygments_lexer": "ipython3",
      "version": "3.13.7"
    }
  },
  "nbformat": 4,
  "nbformat_minor": 0
}
